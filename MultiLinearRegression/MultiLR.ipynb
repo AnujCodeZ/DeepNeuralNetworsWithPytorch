{
 "cells": [
  {
   "cell_type": "code",
   "execution_count": 1,
   "metadata": {},
   "outputs": [],
   "source": [
    "# Impelementation of multiple features LR.\n",
    "from torch.nn import Linear\n",
    "import torch\n",
    "import torch.nn as nn"
   ]
  },
  {
   "cell_type": "code",
   "execution_count": 2,
   "metadata": {},
   "outputs": [
    {
     "output_type": "execute_result",
     "data": {
      "text/plain": "<torch._C.Generator at 0x7f1e040ca2f0>"
     },
     "metadata": {},
     "execution_count": 2
    }
   ],
   "source": [
    "# To get the same answer everytime.\n",
    "torch.manual_seed(1)"
   ]
  },
  {
   "cell_type": "code",
   "execution_count": 3,
   "metadata": {},
   "outputs": [],
   "source": [
    "# This is inbuilt model.\n",
    "model = Linear(in_features=2, out_features=1)"
   ]
  },
  {
   "cell_type": "code",
   "execution_count": 4,
   "metadata": {},
   "outputs": [
    {
     "output_type": "execute_result",
     "data": {
      "text/plain": "OrderedDict([('weight', tensor([[ 0.3643, -0.3121]])),\n             ('bias', tensor([-0.1371]))])"
     },
     "metadata": {},
     "execution_count": 4
    }
   ],
   "source": [
    "# We can check the model parameters by this.\n",
    "model.state_dict()"
   ]
  },
  {
   "cell_type": "code",
   "execution_count": 5,
   "metadata": {},
   "outputs": [
    {
     "output_type": "execute_result",
     "data": {
      "text/plain": "tensor([[-0.0848],\n        [-0.3969],\n        [-0.7090]], grad_fn=<AddmmBackward>)"
     },
     "metadata": {},
     "execution_count": 5
    }
   ],
   "source": [
    "# Prediction.\n",
    "X = torch.tensor([[1.0, 1.0], [1.0, 2.0], [1.0, 3.0]])\n",
    "yhat = model(X)\n",
    "yhat"
   ]
  },
  {
   "cell_type": "code",
   "execution_count": 6,
   "metadata": {},
   "outputs": [],
   "source": [
    "# Custom classes are very useful for further use.\n",
    "class LR(nn.Module):\n",
    "    def __init__(self, input_size, output_size):\n",
    "        super(LR, self).__init__()\n",
    "        self.linear = nn.Linear(input_size, output_size)\n",
    "    \n",
    "    def forward(self, x):\n",
    "\n",
    "        out = self.linear(x)\n",
    "\n",
    "        return out"
   ]
  },
  {
   "cell_type": "code",
   "execution_count": 7,
   "metadata": {},
   "outputs": [
    {
     "output_type": "execute_result",
     "data": {
      "text/plain": "tensor([[ 0.0903],\n        [-0.5754],\n        [-1.2411]], grad_fn=<AddmmBackward>)"
     },
     "metadata": {},
     "execution_count": 7
    }
   ],
   "source": [
    "# Prediction of custom module.\n",
    "Cmodel = LR(input_size=2, output_size=1)\n",
    "\n",
    "cyhat = Cmodel(X)\n",
    "cyhat"
   ]
  },
  {
   "cell_type": "code",
   "execution_count": null,
   "metadata": {},
   "outputs": [],
   "source": []
  }
 ],
 "metadata": {
  "language_info": {
   "codemirror_mode": {
    "name": "ipython",
    "version": 3
   },
   "file_extension": ".py",
   "mimetype": "text/x-python",
   "name": "python",
   "nbconvert_exporter": "python",
   "pygments_lexer": "ipython3",
   "version": "3.7.5-final"
  },
  "orig_nbformat": 2,
  "kernelspec": {
   "name": "python37564bit4c236d3b60fd408a91b813d5cdf412d0",
   "display_name": "Python 3.7.5 64-bit"
  }
 },
 "nbformat": 4,
 "nbformat_minor": 2
}