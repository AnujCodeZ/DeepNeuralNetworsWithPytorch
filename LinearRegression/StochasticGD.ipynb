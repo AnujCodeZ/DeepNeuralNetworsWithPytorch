{
 "cells": [
  {
   "cell_type": "code",
   "execution_count": 1,
   "metadata": {},
   "outputs": [],
   "source": [
    "import torch \n",
    "from torch.utils.data import Dataset, DataLoader # We use Dataloader to ease the iteration."
   ]
  },
  {
   "cell_type": "code",
   "execution_count": 2,
   "metadata": {},
   "outputs": [],
   "source": [
    "def forward(x):\n",
    "    return w*x+b\n",
    "\n",
    "def criterion(yhat, y): # It is the loss function.\n",
    "    return torch.mean((yhat-y)**2)"
   ]
  },
  {
   "cell_type": "code",
   "execution_count": 3,
   "metadata": {},
   "outputs": [],
   "source": [
    "class Data(Dataset): # Making class of our data to load in Dataloader.\n",
    "    def __init__(self):\n",
    "        \n",
    "        self.x = torch.arange(-3,3,0.1).view(-1,1)\n",
    "        self.y = -3*self.x + 1\n",
    "        self.len = self.x.shape[0]\n",
    "        \n",
    "    def __getitem__(self,index):\n",
    "        return self.x[index], self.y[index]\n",
    "\n",
    "    def __len__(self):\n",
    "        return self.len"
   ]
  },
  {
   "cell_type": "code",
   "execution_count": 4,
   "metadata": {},
   "outputs": [],
   "source": [
    "dataset = Data()\n",
    "\n",
    "trainloader = DataLoader(dataset=dataset, batch_size=1) # This maps the x, y in trainloader and also has batch size."
   ]
  },
  {
   "cell_type": "code",
   "execution_count": 5,
   "metadata": {},
   "outputs": [],
   "source": [
    "# The parameters.\n",
    "w = torch.tensor(-15.0, requires_grad=True) \n",
    "b = torch.tensor(-10.0, requires_grad=True)"
   ]
  },
  {
   "cell_type": "code",
   "execution_count": 6,
   "metadata": {},
   "outputs": [],
   "source": [
    "lr = 0.1\n",
    "Cost = [] # To record loss.\n",
    "for x,y in trainloader:\n",
    "    yhat = forward(x)\n",
    "    loss = criterion(yhat, y)\n",
    "    loss.backward()\n",
    "    w.data = w.data - lr*w.grad.data\n",
    "    b.data = b.data - lr*b.grad.data\n",
    "    w.grad.data.zero_()\n",
    "    b.grad.data.zero_()\n",
    "    Cost.append(loss.item())"
   ]
  },
  {
   "cell_type": "code",
   "execution_count": 7,
   "metadata": {},
   "outputs": [
    {
     "data": {
      "image/png": "[encoded data removed]",
      "text/plain": [
       "<Figure size 432x288 with 1 Axes>"
      ]
     },
     "metadata": {
      "needs_background": "light"
     },
     "output_type": "display_data"
    }
   ],
   "source": [
    "# Plotting loss graph.\n",
    "import matplotlib.pyplot as plt\n",
    "niter = torch.arange(0,60,1)\n",
    "niter = niter.numpy()\n",
    "plt.plot(niter, Cost)\n",
    "plt.show()"
   ]
  },
  {
   "cell_type": "code",
   "execution_count": null,
   "metadata": {},
   "outputs": [],
   "source": []
  },
  {
   "cell_type": "code",
   "execution_count": null,
   "metadata": {},
   "outputs": [],
   "source": []
  }
 ],
 "metadata": {
  "kernelspec": {
   "display_name": "Python 3",
   "language": "python",
   "name": "python3"
  },
  "language_info": {
   "codemirror_mode": {
    "name": "ipython",
    "version": 3
   },
   "file_extension": ".py",
   "mimetype": "text/x-python",
   "name": "python",
   "nbconvert_exporter": "python",
   "pygments_lexer": "ipython3",
   "version": "3.7.5"
  }
 },
 "nbformat": 4,
 "nbformat_minor": 4
}
