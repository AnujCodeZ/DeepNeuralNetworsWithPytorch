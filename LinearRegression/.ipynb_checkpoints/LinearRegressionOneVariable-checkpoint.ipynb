{
 "cells": [
  {
   "cell_type": "code",
   "execution_count": 12,
   "metadata": {},
   "outputs": [],
   "source": [
    "import torch"
   ]
  },
  {
   "cell_type": "code",
   "execution_count": 13,
   "metadata": {},
   "outputs": [],
   "source": [
    "# Parameters gradient is required.\n",
    "w = torch.tensor(2.0, requires_grad=True)\n",
    "b = torch.tensor(-1.0, requires_grad=True)"
   ]
  },
  {
   "cell_type": "code",
   "execution_count": 14,
   "metadata": {},
   "outputs": [
    {
     "name": "stdout",
     "output_type": "stream",
     "text": [
      "tensor([1.], grad_fn=<AddBackward0>)\n"
     ]
    }
   ],
   "source": [
    "# Simple prediction function.\n",
    "def forward(x):\n",
    "    y = w*x + b\n",
    "    return y\n",
    "\n",
    "x = torch.tensor([1])\n",
    "print(forward(x))"
   ]
  },
  {
   "cell_type": "code",
   "execution_count": 15,
   "metadata": {},
   "outputs": [
    {
     "name": "stdout",
     "output_type": "stream",
     "text": [
      "tensor([[1.],\n",
      "        [3.]], grad_fn=<AddBackward0>)\n"
     ]
    }
   ],
   "source": [
    "# Multiple dimension input.\n",
    "x = torch.tensor([[1], [2]])\n",
    "\n",
    "yhat = forward(x)\n",
    "print(yhat)"
   ]
  },
  {
   "cell_type": "code",
   "execution_count": 16,
   "metadata": {},
   "outputs": [
    {
     "name": "stdout",
     "output_type": "stream",
     "text": [
      "[Parameter containing:\n",
      "tensor([[0.5153]], requires_grad=True), Parameter containing:\n",
      "tensor([-0.4414], requires_grad=True)]\n"
     ]
    }
   ],
   "source": [
    "# inbuilt class.\n",
    "from torch.nn import Linear\n",
    "\n",
    "torch.manual_seed(1)\n",
    "\n",
    "model = Linear(in_features=1, out_features=1)\n",
    "\n",
    "print(list(model.parameters()))"
   ]
  },
  {
   "cell_type": "code",
   "execution_count": 17,
   "metadata": {},
   "outputs": [
    {
     "name": "stdout",
     "output_type": "stream",
     "text": [
      "tensor([0.0739], grad_fn=<AddBackward0>)\n"
     ]
    }
   ],
   "source": [
    "x = torch.tensor([1.0])\n",
    "\n",
    "print(model(x)) # We don't have to call forward."
   ]
  },
  {
   "cell_type": "code",
   "execution_count": 18,
   "metadata": {},
   "outputs": [],
   "source": [
    "# Custom modules.\n",
    "# Custom module can contain multiple models and used in building complex models.\n",
    "import torch.nn as nn\n",
    "\n",
    "# Custom modeules are classes.\n",
    "# These classes are subclasses of nn module.\n",
    "class LR(nn.Module):\n",
    "    \n",
    "    def __init__(self, in_size, out_size):\n",
    "        super(LR, self).__init__()\n",
    "        self.linear = nn.Linear(in_size, out_size)\n",
    "            \n",
    "    def forward(self, x): # We don't have to call it, just use paranthesis. It behaves like call method.\n",
    "        out = self.linear(x)\n",
    "        return out"
   ]
  },
  {
   "cell_type": "code",
   "execution_count": 19,
   "metadata": {},
   "outputs": [
    {
     "name": "stdout",
     "output_type": "stream",
     "text": [
      "[Parameter containing:\n",
      "tensor([[0.5153]], requires_grad=True), Parameter containing:\n",
      "tensor([-0.4414], requires_grad=True)]\n"
     ]
    }
   ],
   "source": [
    "model = LR(1,1)\n",
    "\n",
    "model.state_dict()['linear.weight'].data[0] = torch.tensor([0.5153]) # For changing values.\n",
    "model.state_dict()['linear.bias'].data[0] = torch.tensor([-0.4414])\n",
    "\n",
    "print(list(model.parameters()))"
   ]
  },
  {
   "cell_type": "code",
   "execution_count": 20,
   "metadata": {},
   "outputs": [
    {
     "name": "stdout",
     "output_type": "stream",
     "text": [
      "tensor([0.0739], grad_fn=<AddBackward0>)\n"
     ]
    }
   ],
   "source": [
    "x = torch.tensor([1.0])\n",
    "yhat = model(x)\n",
    "print(yhat)"
   ]
  },
  {
   "cell_type": "code",
   "execution_count": 21,
   "metadata": {},
   "outputs": [
    {
     "name": "stdout",
     "output_type": "stream",
     "text": [
      "Dictionary: OrderedDict([('linear.weight', tensor([[0.5153]])), ('linear.bias', tensor([-0.4414]))])\n",
      "Keys: odict_keys(['linear.weight', 'linear.bias'])\n",
      "Values: odict_values([tensor([[0.5153]]), tensor([-0.4414])])\n"
     ]
    }
   ],
   "source": [
    "# state_dict is dictionary containing the parameters.\n",
    "print(\"Dictionary:\", model.state_dict())\n",
    "print(\"Keys:\", model.state_dict().keys())\n",
    "print(\"Values:\",model.state_dict().values())"
   ]
  },
  {
   "cell_type": "code",
   "execution_count": null,
   "metadata": {},
   "outputs": [],
   "source": []
  }
 ],
 "metadata": {
  "kernelspec": {
   "display_name": "Python 3",
   "language": "python",
   "name": "python3"
  },
  "language_info": {
   "codemirror_mode": {
    "name": "ipython",
    "version": 3
   },
   "file_extension": ".py",
   "mimetype": "text/x-python",
   "name": "python",
   "nbconvert_exporter": "python",
   "pygments_lexer": "ipython3",
   "version": "3.7.5"
  }
 },
 "nbformat": 4,
 "nbformat_minor": 4
}
