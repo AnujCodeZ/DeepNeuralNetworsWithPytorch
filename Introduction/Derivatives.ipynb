{
 "cells": [
  {
   "cell_type": "code",
   "execution_count": 1,
   "metadata": {},
   "outputs": [],
   "source": [
    "import torch"
   ]
  },
  {
   "cell_type": "code",
   "execution_count": 2,
   "metadata": {},
   "outputs": [
    {
     "name": "stdout",
     "output_type": "stream",
     "text": [
      "tensor(4.)\n"
     ]
    }
   ],
   "source": [
    "# Derivatives\n",
    "x = torch.tensor(2., requires_grad=True) # For making x diffrentiable\n",
    "y = x**2\n",
    "y.backward()\n",
    "print(x.grad)"
   ]
  },
  {
   "cell_type": "code",
   "execution_count": 3,
   "metadata": {},
   "outputs": [
    {
     "name": "stdout",
     "output_type": "stream",
     "text": [
      "With respect to u :  tensor(8.)\n",
      "With respect to v :  tensor(2.)\n"
     ]
    }
   ],
   "source": [
    "# Partial derivatives\n",
    "u = torch.tensor(2., requires_grad=True)\n",
    "v = torch.tensor(4., requires_grad=True)\n",
    "f = u*v + u**2\n",
    "f.backward()\n",
    "print(\"With respect to u : \", u.grad)\n",
    "print(\"With respect to v : \", v.grad)"
   ]
  },
  {
   "cell_type": "code",
   "execution_count": null,
   "metadata": {},
   "outputs": [],
   "source": []
  }
 ],
 "metadata": {
  "kernelspec": {
   "display_name": "Python 3",
   "language": "python",
   "name": "python3"
  },
  "language_info": {
   "codemirror_mode": {
    "name": "ipython",
    "version": 3
   },
   "file_extension": ".py",
   "mimetype": "text/x-python",
   "name": "python",
   "nbconvert_exporter": "python",
   "pygments_lexer": "ipython3",
   "version": "3.7.5"
  }
 },
 "nbformat": 4,
 "nbformat_minor": 4
}
