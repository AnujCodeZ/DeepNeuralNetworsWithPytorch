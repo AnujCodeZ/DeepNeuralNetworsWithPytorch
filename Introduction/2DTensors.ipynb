{
 "cells": [
  {
   "cell_type": "code",
   "execution_count": 1,
   "metadata": {},
   "outputs": [],
   "source": [
    "import torch"
   ]
  },
  {
   "cell_type": "code",
   "execution_count": 2,
   "metadata": {},
   "outputs": [
    {
     "name": "stdout",
     "output_type": "stream",
     "text": [
      "tensor([[1, 2, 3],\n",
      "        [4, 5, 6],\n",
      "        [7, 8, 9]])\n",
      "2\n",
      "torch.Size([3, 3])\n",
      "torch.Size([3, 3])\n",
      "9\n"
     ]
    }
   ],
   "source": [
    "# Declaring 2d tensor.\n",
    "a = [[1, 2, 3], [4, 5, 6], [7, 8, 9]]\n",
    "A = torch.tensor(a)\n",
    "print(A)\n",
    "print(A.ndimension())\n",
    "print(A.shape)\n",
    "print(A.size())\n",
    "print(A.numel()) # To obtain number of elements in tensor."
   ]
  },
  {
   "cell_type": "code",
   "execution_count": 3,
   "metadata": {},
   "outputs": [
    {
     "name": "stdout",
     "output_type": "stream",
     "text": [
      "tensor(3)\n",
      "tensor([2, 3])\n",
      "tensor([4, 7])\n"
     ]
    }
   ],
   "source": [
    "# Indexing.\n",
    "print(A[0][2])\n",
    "# Slicing.\n",
    "print(A[0, 1:3])\n",
    "print(A[1:3, 0])"
   ]
  },
  {
   "cell_type": "code",
   "execution_count": 4,
   "metadata": {},
   "outputs": [
    {
     "name": "stdout",
     "output_type": "stream",
     "text": [
      "tensor([[ 6,  8],\n",
      "        [10, 12]])\n",
      "tensor([[2, 4],\n",
      "        [6, 8]])\n",
      "tensor([[ 5, 12],\n",
      "        [21, 32]])\n",
      "tensor([[19, 22],\n",
      "        [43, 50]])\n"
     ]
    }
   ],
   "source": [
    "# Basic operations.\n",
    "# Addition.\n",
    "X = torch.tensor([[1, 2], [3, 4]])\n",
    "Y = torch.tensor([[5, 6], [7, 8]])\n",
    "print(X+Y)\n",
    "\n",
    "# Multiply by a scalar.\n",
    "print(2*X)\n",
    "\n",
    "# Hadamard product.\n",
    "print(X*Y)\n",
    "\n",
    "# Matrix multiplication.\n",
    "# Column of X must be equal to rows of Y.\n",
    "print(torch.mm(X,Y))"
   ]
  },
  {
   "cell_type": "code",
   "execution_count": null,
   "metadata": {},
   "outputs": [],
   "source": []
  }
 ],
 "metadata": {
  "kernelspec": {
   "display_name": "Python 3",
   "language": "python",
   "name": "python3"
  },
  "language_info": {
   "codemirror_mode": {
    "name": "ipython",
    "version": 3
   },
   "file_extension": ".py",
   "mimetype": "text/x-python",
   "name": "python",
   "nbconvert_exporter": "python",
   "pygments_lexer": "ipython3",
   "version": "3.7.5"
  }
 },
 "nbformat": 4,
 "nbformat_minor": 4
}
